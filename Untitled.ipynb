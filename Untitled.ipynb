{
 "cells": [
  {
   "cell_type": "code",
   "execution_count": 2,
   "metadata": {},
   "outputs": [
    {
     "ename": "ModuleNotFoundError",
     "evalue": "No module named 'pandas'",
     "output_type": "error",
     "traceback": [
      "\u001b[0;31m---------------------------------------------------------------------------\u001b[0m",
      "\u001b[0;31mModuleNotFoundError\u001b[0m                       Traceback (most recent call last)",
      "\u001b[0;32m<ipython-input-2-d038328eaf15>\u001b[0m in \u001b[0;36m<module>\u001b[0;34m\u001b[0m\n\u001b[0;32m----> 1\u001b[0;31m \u001b[0;32mimport\u001b[0m \u001b[0mpandas\u001b[0m \u001b[0;32mas\u001b[0m \u001b[0mpd\u001b[0m\u001b[0;34m\u001b[0m\u001b[0;34m\u001b[0m\u001b[0m\n\u001b[0m\u001b[1;32m      2\u001b[0m \u001b[0;32mimport\u001b[0m \u001b[0mnumpy\u001b[0m \u001b[0;32mas\u001b[0m \u001b[0mnp\u001b[0m\u001b[0;34m\u001b[0m\u001b[0;34m\u001b[0m\u001b[0m\n\u001b[1;32m      3\u001b[0m \u001b[0;32mimport\u001b[0m \u001b[0mos\u001b[0m\u001b[0;34m\u001b[0m\u001b[0;34m\u001b[0m\u001b[0m\n\u001b[1;32m      4\u001b[0m \u001b[0;32mimport\u001b[0m \u001b[0mstring\u001b[0m\u001b[0;34m\u001b[0m\u001b[0;34m\u001b[0m\u001b[0m\n\u001b[1;32m      5\u001b[0m \u001b[0;32mfrom\u001b[0m \u001b[0msklearn\u001b[0m\u001b[0;34m.\u001b[0m\u001b[0mfeature_extraction\u001b[0m\u001b[0;34m.\u001b[0m\u001b[0mtext\u001b[0m \u001b[0;32mimport\u001b[0m \u001b[0mCountVectorizer\u001b[0m\u001b[0;34m\u001b[0m\u001b[0;34m\u001b[0m\u001b[0m\n",
      "\u001b[0;31mModuleNotFoundError\u001b[0m: No module named 'pandas'"
     ]
    }
   ],
   "source": [
    "import pandas as pd\n",
    "import numpy as np\n",
    "import os\n",
    "import string\n",
    "from sklearn.feature_extraction.text import CountVectorizer\n",
    "from sklearn.feature_extraction.text import TfidfTransformer\n",
    "from sklearn.naive_bayes import MultinomialNB\n",
    "\n",
    "\n",
    "def clean_text(text):\n",
    "    res = ''\n",
    "    for char in text:\n",
    "        if char not in string.punctuation and char != '0' and char != '5' and char != '1' and char != '2' and char != '3':\n",
    "            res += char.lower()\n",
    "        else:\n",
    "            res += ' '\n",
    "    return res\n",
    "\n",
    "\n",
    "def text_process(text):\n",
    "    return [word for word in text.split()]\n",
    "\n",
    "\n",
    "text = [line.rstrip() for line in open('./data.csv')]\n",
    "data = [text[0]]\n",
    "for i in range(len(text)):\n",
    "    if text[i] != '' and (text[i][0] == '0' or text[i][0] == '1' or text[i][0] == '2'\n",
    "    or text[i][0] == '3' or text[i][0] == '4' or text[i][0] == '5' or text[i][0] == '6'):\n",
    "        data.append(text[i])\n",
    "    else:\n",
    "        data[-1] += text[i]\n",
    "better_data = []\n",
    "for text in data:\n",
    "    better_data.append([text[0], text[2:]])\n",
    "better_data = better_data[1:]\n",
    "\n",
    "for i in range(len(better_data)):\n",
    "    better_data[i][1] = clean_text(better_data[i][1])\n",
    "\n",
    "data = pd.DataFrame(np.array(better_data), columns=['a', 'b'])\n",
    "\n",
    "counter = CountVectorizer(analyzer=text_process).fit(data['b'])\n",
    "text_bow = counter.transform(data['b'])\n",
    "print(text_bow.shape)\n",
    "tfidf_transformer = TfidfTransformer().fit(text_bow)\n",
    "text_tfidf = tfidf_transformer.transform(text_bow)\n",
    "print(text_tfidf.shape)\n",
    "classifier = MultinomialNB().fit(text_tfidf, data['a'])\n",
    "\n",
    "test4 = data['b'][4]\n",
    "bow4 = counter.transform([test4])\n",
    "tfidf4 = tfidf_transformer.transform(bow4)\n",
    "\n",
    "test400 = data['b'][300]\n",
    "bow400 = counter.transform([test400])\n",
    "tfidf400 = tfidf_transformer.transform(bow400)\n",
    "\n",
    "print('predicted:',classifier.predict(tfidf4)[0])\n",
    "print('expected:',data['a'][4])\n",
    "print('predicted:',classifier.predict(tfidf400)[0])\n",
    "print('expected:',data['a'][300], data['b'][300])\n",
    "\n",
    "print(data.describe())\n",
    "print(data.a.unique())"
   ]
  },
  {
   "cell_type": "code",
   "execution_count": null,
   "metadata": {},
   "outputs": [],
   "source": []
  }
 ],
 "metadata": {
  "kernelspec": {
   "display_name": "Python 3",
   "language": "python",
   "name": "python3"
  },
  "language_info": {
   "codemirror_mode": {
    "name": "ipython",
    "version": 3
   },
   "file_extension": ".py",
   "mimetype": "text/x-python",
   "name": "python",
   "nbconvert_exporter": "python",
   "pygments_lexer": "ipython3",
   "version": "3.7.3"
  }
 },
 "nbformat": 4,
 "nbformat_minor": 2
}
